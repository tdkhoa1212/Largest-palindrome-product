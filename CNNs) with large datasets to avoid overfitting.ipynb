{
 "cells": [
  {
   "cell_type": "code",
   "execution_count": 1,
   "metadata": {},
   "outputs": [],
   "source": [
    "import os \n",
    "import zipfile\n",
    "import random\n",
    "import tensorflow as tf\n",
    "from tensorflow.keras.optimizers import RMSprop\n",
    "from tensorflow.keras.preprocessing.image import ImageDataGenerator\n",
    "from shutil import copyfile"
   ]
  },
  {
   "cell_type": "markdown",
   "metadata": {},
   "source": [
    "# 1: Prepare the data"
   ]
  },
  {
   "cell_type": "code",
   "execution_count": 2,
   "metadata": {},
   "outputs": [
    {
     "name": "stdout",
     "output_type": "stream",
     "text": [
      "666.jpg is zero length, so ignoring.\n",
      "11702.jpg is zero length, so ignoring.\n"
     ]
    }
   ],
   "source": [
    "try:\n",
    "    os.mkdir('cats_and_dogs')\n",
    "    os.mkdir('cats_and_dogs/training')\n",
    "    os.mkdir('cats_and_dogs/testing')\n",
    "    os.mkdir('cats_and_dogs/training/cats')\n",
    "    os.mkdir('cats_and_dogs/training/dogs')\n",
    "    os.mkdir('cats_and_dogs/testing/cats')\n",
    "    os.mkdir('cats_and_dogs/testing/dogs')\n",
    "except OSError:\n",
    "    pass\n",
    "\n",
    "def split_data(SOURCE, TRAINING, TESTING, SPLIT_SIZE):\n",
    "    files = []\n",
    "    for filename in os.listdir(SOURCE):\n",
    "        file = SOURCE + filename\n",
    "        if os.path.getsize(file) > 0:\n",
    "            files.append(filename)\n",
    "        else:\n",
    "            print(filename + \" is zero length, so ignoring.\")\n",
    " \n",
    "    training_length = int(len(files) * SPLIT_SIZE)\n",
    "    testing_length = int(len(files) - training_length)\n",
    "    \n",
    "    shuffled_set = random.sample(files, len(files))\n",
    "    \n",
    "    # Set train and test\n",
    "    training_set = shuffled_set[0:training_length]\n",
    "    testing_set = shuffled_set[:testing_length]\n",
    " \n",
    "    for filename in training_set:\n",
    "        this_file = SOURCE + filename\n",
    "        destination = TRAINING + filename\n",
    "        copyfile(this_file, destination)\n",
    " \n",
    "    for filename in testing_set:\n",
    "        this_file = SOURCE + filename\n",
    "        destination = TESTING + filename\n",
    "        copyfile(this_file, destination)\n",
    "        \n",
    " \n",
    "  # Data of cats\n",
    "CAT_SOURCE_DIR = \"cats_and_dogs/PetImages/Cat/\"\n",
    "TRAINING_CATS_DIR = \"cats_and_dogs/training/cats/\"\n",
    "TESTING_CATS_DIR = \"cats_and_dogs/testing/cats/\"\n",
    "\n",
    "  # Data of dogs\n",
    "DOG_SOURCE_DIR = \"cats_and_dogs/PetImages/Dog/\"\n",
    "TRAINING_DOGS_DIR = \"cats_and_dogs/training/dogs/\"\n",
    "TESTING_DOGS_DIR = \"cats_and_dogs/testing/dogs/\"\n",
    " \n",
    "split_size = .9\n",
    "split_data(CAT_SOURCE_DIR, TRAINING_CATS_DIR, TESTING_CATS_DIR, split_size)\n",
    "split_data(DOG_SOURCE_DIR, TRAINING_DOGS_DIR, TESTING_DOGS_DIR, split_size)\n",
    "# Expected output\n",
    "# 666.jpg is zero length, so ignoring\n",
    "# 11702.jpg is zero length, so ignoring"
   ]
  },
  {
   "cell_type": "markdown",
   "metadata": {},
   "source": [
    "# 2: check length of training set and test set"
   ]
  },
  {
   "cell_type": "code",
   "execution_count": 3,
   "metadata": {},
   "outputs": [
    {
     "name": "stdout",
     "output_type": "stream",
     "text": [
      "12478\n",
      "12485\n",
      "3629\n",
      "3408\n"
     ]
    }
   ],
   "source": [
    "'''Check len in file'''\n",
    "print(len(os.listdir('cats_and_dogs/training/cats/')))\n",
    "print(len(os.listdir('cats_and_dogs/training/dogs/')))\n",
    "print(len(os.listdir('cats_and_dogs/testing/cats/')))\n",
    "print(len(os.listdir('cats_and_dogs/testing/dogs/')))"
   ]
  },
  {
   "cell_type": "markdown",
   "metadata": {},
   "source": [
    "# 3: Define the model"
   ]
  },
  {
   "cell_type": "code",
   "execution_count": 4,
   "metadata": {},
   "outputs": [],
   "source": [
    "model = tf.keras.models.Sequential([\n",
    "#     16 layers\n",
    "    tf.keras.layers.Conv2D(16, (3, 3), activation='relu', input_shape=(150, 150, 3)),\n",
    "    tf.keras.layers.MaxPooling2D(2, 2),\n",
    "    \n",
    "#     32 layers\n",
    "    tf.keras.layers.Conv2D(32, (3, 3), activation='relu'),\n",
    "    tf.keras.layers.MaxPooling2D(2, 2),\n",
    "    \n",
    "#     64 layers\n",
    "    tf.keras.layers.Conv2D(64, (3, 3), activation='relu'),\n",
    "    tf.keras.layers.MaxPooling2D(2, 2),\n",
    "    \n",
    "#     128 dense layers, and 10 output layers\n",
    "    tf.keras.layers.Flatten(),\n",
    "    tf.keras.layers.Dense(512, activation='relu'),\n",
    "    tf.keras.layers.Dense(1, activation='sigmoid')\n",
    "]) \n",
    "model.compile(optimizer=RMSprop(lr=0.001), loss='binary_crossentropy', metrics=['accuracy'])"
   ]
  },
  {
   "cell_type": "markdown",
   "metadata": {},
   "source": [
    "# 4: Train the model"
   ]
  },
  {
   "cell_type": "code",
   "execution_count": 5,
   "metadata": {},
   "outputs": [
    {
     "name": "stdout",
     "output_type": "stream",
     "text": [
      "Found 24961 images belonging to 2 classes.\n",
      "Found 7036 images belonging to 2 classes.\n"
     ]
    }
   ],
   "source": [
    "TRAINING_DIR = \"cats_and_dogs/training/\"\n",
    "train_datagen = ImageDataGenerator(rescale=1.0/255.)\n",
    "\n",
    "'''train_generator'''\n",
    "train_generator = train_datagen.flow_from_directory(TRAINING_DIR,\n",
    "                                                    batch_size=100,\n",
    "                                                    class_mode='binary',\n",
    "                                                    target_size=(150, 150))\n",
    " \n",
    "    \n",
    "    \n",
    "VALIDATION_DIR = \"cats_and_dogs/testing/\"\n",
    "validation_datagen = ImageDataGenerator(rescale=1.0/255.)\n",
    "\n",
    "'''validation_generator'''\n",
    "validation_generator = validation_datagen.flow_from_directory(VALIDATION_DIR,\n",
    "                                                              batch_size=100,\n",
    "                                                              class_mode='binary',\n",
    "                                                              target_size=(150, 150))\n",
    " \n",
    "# Expected Output:\n",
    "# Found 22498 images belonging to 2 classes.\n",
    "# Found 2500 images belonging to 2 classes."
   ]
  },
  {
   "cell_type": "code",
   "execution_count": 6,
   "metadata": {},
   "outputs": [
    {
     "name": "stdout",
     "output_type": "stream",
     "text": [
      "WARNING:tensorflow:From <ipython-input-6-6afd01156020>:1: Model.fit_generator (from tensorflow.python.keras.engine.training) is deprecated and will be removed in a future version.\n",
      "Instructions for updating:\n",
      "Please use Model.fit, which supports generators.\n",
      "  2/250 [..............................] - ETA: 2:31 - loss: 0.8518 - accuracy: 0.4300"
     ]
    },
    {
     "name": "stderr",
     "output_type": "stream",
     "text": [
      "/home/khoa/anaconda3/envs/tf2.0/lib/python3.8/site-packages/PIL/TiffImagePlugin.py:770: UserWarning: Possibly corrupt EXIF data.  Expecting to read 32 bytes but only got 0. Skipping tag 270\n",
      "  warnings.warn(\n",
      "/home/khoa/anaconda3/envs/tf2.0/lib/python3.8/site-packages/PIL/TiffImagePlugin.py:770: UserWarning: Possibly corrupt EXIF data.  Expecting to read 5 bytes but only got 0. Skipping tag 271\n",
      "  warnings.warn(\n",
      "/home/khoa/anaconda3/envs/tf2.0/lib/python3.8/site-packages/PIL/TiffImagePlugin.py:770: UserWarning: Possibly corrupt EXIF data.  Expecting to read 8 bytes but only got 0. Skipping tag 272\n",
      "  warnings.warn(\n",
      "/home/khoa/anaconda3/envs/tf2.0/lib/python3.8/site-packages/PIL/TiffImagePlugin.py:770: UserWarning: Possibly corrupt EXIF data.  Expecting to read 8 bytes but only got 0. Skipping tag 282\n",
      "  warnings.warn(\n",
      "/home/khoa/anaconda3/envs/tf2.0/lib/python3.8/site-packages/PIL/TiffImagePlugin.py:770: UserWarning: Possibly corrupt EXIF data.  Expecting to read 8 bytes but only got 0. Skipping tag 283\n",
      "  warnings.warn(\n",
      "/home/khoa/anaconda3/envs/tf2.0/lib/python3.8/site-packages/PIL/TiffImagePlugin.py:770: UserWarning: Possibly corrupt EXIF data.  Expecting to read 20 bytes but only got 0. Skipping tag 306\n",
      "  warnings.warn(\n",
      "/home/khoa/anaconda3/envs/tf2.0/lib/python3.8/site-packages/PIL/TiffImagePlugin.py:770: UserWarning: Possibly corrupt EXIF data.  Expecting to read 48 bytes but only got 0. Skipping tag 532\n",
      "  warnings.warn(\n",
      "/home/khoa/anaconda3/envs/tf2.0/lib/python3.8/site-packages/PIL/TiffImagePlugin.py:792: UserWarning: Corrupt EXIF data.  Expecting to read 2 bytes but only got 0. \n",
      "  warnings.warn(str(msg))\n"
     ]
    },
    {
     "name": "stdout",
     "output_type": "stream",
     "text": [
      "250/250 [==============================] - 311s 1s/step - loss: 0.6169 - accuracy: 0.6718 - val_loss: 0.5279 - val_accuracy: 0.7555\n"
     ]
    }
   ],
   "source": [
    "history = model.fit_generator(train_generator,\n",
    "                              epochs=1,\n",
    "                              verbose=1,\n",
    "                              validation_data=validation_generator) #By setting verbose 0, 1 or 2 you just say how do you want to 'see' the training progress for each epoch."
   ]
  },
  {
   "cell_type": "code",
   "execution_count": 7,
   "metadata": {},
   "outputs": [
    {
     "data": {
      "text/plain": [
       "<Figure size 432x288 with 0 Axes>"
      ]
     },
     "execution_count": 7,
     "metadata": {},
     "output_type": "execute_result"
    },
    {
     "data": {
      "image/png": "[encoded data removed]",
      "text/plain": [
       "<Figure size 432x288 with 1 Axes>"
      ]
     },
     "metadata": {
      "needs_background": "light"
     },
     "output_type": "display_data"
    },
    {
     "data": {
      "image/png": "[encoded data removed]",
      "text/plain": [
       "<Figure size 432x288 with 1 Axes>"
      ]
     },
     "metadata": {
      "needs_background": "light"
     },
     "output_type": "display_data"
    },
    {
     "data": {
      "text/plain": [
       "<Figure size 432x288 with 0 Axes>"
      ]
     },
     "metadata": {},
     "output_type": "display_data"
    }
   ],
   "source": [
    "%matplotlib inline\n",
    "import matplotlib.image  as mpimg\n",
    "import matplotlib.pyplot as plt\n",
    "#-----------------------------------------------------------\n",
    "# Retrieve a list of list results on training and test data\n",
    "# sets for each training epoch\n",
    "#-----------------------------------------------------------\n",
    "acc=history.history['accuracy']\n",
    "val_acc=history.history['val_accuracy']\n",
    "\n",
    "loss=history.history['loss']\n",
    "val_loss=history.history['val_loss']\n",
    " \n",
    "epochs=range(len(acc)) # Get number of epochs\n",
    " \n",
    "#------------------------------------------------\n",
    "# Plot training and validation accuracy per epoch\n",
    "#------------------------------------------------\n",
    "plt.plot(epochs, acc, 'r', \"Training Accuracy\")\n",
    "plt.plot(epochs, val_acc, 'b', \"Validation Accuracy\")\n",
    "plt.title('Training and validation accuracy')\n",
    "plt.figure()\n",
    " \n",
    "#------------------------------------------------\n",
    "# Plot training and validation loss per epoch\n",
    "#------------------------------------------------\n",
    "plt.plot(epochs, loss, 'r', \"Training Loss\")\n",
    "plt.plot(epochs, val_loss, 'b', \"Validation Loss\")\n",
    "plt.figure()"
   ]
  },
  {
   "cell_type": "markdown",
   "metadata": {},
   "source": [
    "# test model"
   ]
  },
  {
   "cell_type": "code",
   "execution_count": 8,
   "metadata": {},
   "outputs": [],
   "source": [
    "'''Name of labels have to include(a number + '.jpg')'''\n",
    "def label_img(img):\n",
    "    word_label = img.split('.')[0]\n",
    "    return word_label"
   ]
  },
  {
   "cell_type": "code",
   "execution_count": 9,
   "metadata": {},
   "outputs": [],
   "source": [
    "from tqdm import tqdm  \n",
    "IMG_SIZE = 300\n",
    "second_test_dir = 'cats_and_dogs/set a test/'\n",
    "def second_test_data():\n",
    "    test_data = []\n",
    "    for img in tqdm(os.listdir(second_test_dir)): #  to get the list of all files and directories in the specified directory. If we don’t specify any directory, then list of files and directories in the current working directory will be returned.\n",
    "        label = label_img(img)\n",
    "        path = os.path.join(second_test_dir, img)\n",
    "        \n",
    "        img = cv2.imread(path, cv2.IMREAD_GRAYSCALE) # == (img = cv2.imread(path, 0))\n",
    "        print(img.shape)\n",
    "        img = cv2.resize(img, (IMG_SIZE, IMG_SIZE))\n",
    "        test_data.append(  [np.array(img), label]  )\n",
    "    shuffle(test_data)\n",
    "    np.save('set a test.npy', test_data)\n",
    "    return test_data"
   ]
  },
  {
   "cell_type": "code",
   "execution_count": 10,
   "metadata": {},
   "outputs": [],
   "source": [
    "import cv2                       # working with, mainly resizing, images\n",
    "import numpy as np               # dealing with arrays\n",
    "import os                        # dealing with directories\n",
    "from random import shuffle       # mixing up or currently ordered data that might lead our network astray in training.\n",
    "from tqdm import tqdm            # a nice pretty percentage bar for tasks. Thanks to viewer Daniel BA1/4hler for this suggestion\n",
    "import matplotlib.pyplot as plt"
   ]
  },
  {
   "cell_type": "code",
   "execution_count": 11,
   "metadata": {},
   "outputs": [
    {
     "name": "stderr",
     "output_type": "stream",
     "text": [
      "100%|██████████| 6/6 [00:00<00:00, 211.54it/s]"
     ]
    },
    {
     "name": "stdout",
     "output_type": "stream",
     "text": [
      "(376, 500)\n",
      "(500, 495)\n",
      "(375, 500)\n",
      "(346, 461)\n",
      "(288, 300)\n",
      "(304, 400)\n"
     ]
    },
    {
     "name": "stderr",
     "output_type": "stream",
     "text": [
      "\n",
      "/home/khoa/anaconda3/envs/tf2.0/lib/python3.8/site-packages/numpy/core/_asarray.py:136: VisibleDeprecationWarning: Creating an ndarray from ragged nested sequences (which is a list-or-tuple of lists-or-tuples-or ndarrays with different lengths or shapes) is deprecated. If you meant to do this, you must specify 'dtype=object' when creating the ndarray\n",
      "  return array(a, dtype, copy=False, order=order, subok=True)\n"
     ]
    },
    {
     "data": {
      "text/plain": [
       "[[array([[ 30,  26,  24, ..., 170, 169, 168],\n",
       "         [ 22,  25,  28, ..., 179, 178, 172],\n",
       "         [ 27,  31,  34, ..., 178, 180, 170],\n",
       "         ...,\n",
       "         [231, 236, 236, ...,  83,  82,  81],\n",
       "         [230, 236, 233, ...,  87,  88,  88],\n",
       "         [230, 236, 232, ...,  89,  91,  91]], dtype=uint8),\n",
       "  '8'],\n",
       " [array([[249, 225, 230, ..., 229, 222, 228],\n",
       "         [221, 195, 198, ..., 197, 188, 190],\n",
       "         [220, 193, 194, ..., 194, 181, 179],\n",
       "         ...,\n",
       "         [ 70,  60,  63, ...,  50,  49,  59],\n",
       "         [ 73,  63,  66, ...,  54,  53,  62],\n",
       "         [ 82,  72,  75, ...,  61,  60,  70]], dtype=uint8),\n",
       "  '6'],\n",
       " [array([[145, 143, 143, ...,  29,  26,  26],\n",
       "         [149, 148, 147, ...,  33,  30,  29],\n",
       "         [152, 152, 150, ...,  36,  34,  32],\n",
       "         ...,\n",
       "         [ 16,  20,  21, ...,  40,  35,  35],\n",
       "         [ 16,  19,  19, ...,  36,  32,  37],\n",
       "         [ 15,  19,  20, ...,  37,  34,  35]], dtype=uint8),\n",
       "  '4'],\n",
       " [array([[226, 229, 226, ..., 182, 174, 151],\n",
       "         [229, 226, 225, ..., 165, 157, 145],\n",
       "         [226, 226, 229, ..., 161, 156, 150],\n",
       "         ...,\n",
       "         [166, 168, 166, ..., 166, 164, 163],\n",
       "         [165, 168, 167, ..., 162, 163, 163],\n",
       "         [165, 168, 168, ..., 166, 167, 170]], dtype=uint8),\n",
       "  '3'],\n",
       " [array([[ 98, 106, 153, ...,  70,  60,  66],\n",
       "         [125, 109, 162, ...,  65,  74,  65],\n",
       "         [173, 174, 175, ...,  65,  98,  72],\n",
       "         ...,\n",
       "         [190, 189, 188, ...,  94, 104, 113],\n",
       "         [189, 188, 187, ...,  90, 102, 137],\n",
       "         [187, 186, 185, ...,  90,  92, 123]], dtype=uint8),\n",
       "  '5'],\n",
       " [array([[14, 16, 17, ..., 44, 44, 44],\n",
       "         [15, 16, 17, ..., 41, 41, 41],\n",
       "         [15, 17, 18, ..., 42, 42, 42],\n",
       "         ...,\n",
       "         [44, 48, 46, ..., 28, 25, 28],\n",
       "         [48, 50, 47, ..., 34, 31, 31],\n",
       "         [48, 50, 47, ..., 37, 32, 28]], dtype=uint8),\n",
       "  '7']]"
      ]
     },
     "execution_count": 11,
     "metadata": {},
     "output_type": "execute_result"
    }
   ],
   "source": [
    "second_test_data()"
   ]
  },
  {
   "cell_type": "code",
   "execution_count": 12,
   "metadata": {},
   "outputs": [
    {
     "name": "stderr",
     "output_type": "stream",
     "text": [
      "100%|██████████| 6/6 [00:00<00:00, 353.75it/s]"
     ]
    },
    {
     "name": "stdout",
     "output_type": "stream",
     "text": [
      "(376, 500)\n",
      "(500, 495)\n",
      "(375, 500)\n",
      "(346, 461)\n",
      "(288, 300)\n",
      "(304, 400)\n"
     ]
    },
    {
     "name": "stderr",
     "output_type": "stream",
     "text": [
      "\n"
     ]
    }
   ],
   "source": [
    "second_test_data = second_test_data()"
   ]
  },
  {
   "cell_type": "code",
   "execution_count": 13,
   "metadata": {},
   "outputs": [
    {
     "data": {
      "image/png": "[encoded data removed]",
      "text/plain": [
       "<Figure size 432x288 with 6 Axes>"
      ]
     },
     "metadata": {
      "needs_background": "light"
     },
     "output_type": "display_data"
    }
   ],
   "source": [
    "from keras.preprocessing import image\n",
    "import matplotlib.pyplot as plt\n",
    " \n",
    "size = 150\n",
    "    \n",
    "test_data = np.load('set a test.npy', allow_pickle=True)\n",
    " \n",
    "fig=plt.figure()\n",
    "for num,data in enumerate(second_test_data[0:8]):\n",
    "    \n",
    "    img_num = data[1]\n",
    "    path = 'cats_and_dogs/set a test/' + data[1] + '.jpg'\n",
    "    img = image.load_img(path, target_size=(size, size))\n",
    "    \n",
    "    x = image.img_to_array(img)\n",
    "    x = np.expand_dims(x, axis=0)\n",
    "    \n",
    "    images = np.vstack([x])\n",
    "    \n",
    "    y = fig.add_subplot(3,4,num+1)\n",
    "    \n",
    "    model_out = model.predict(images, batch_size=10)\n",
    "      \n",
    "    if model_out == 1.0: str_label='dog'\n",
    "    else: str_label='cat'\n",
    "        \n",
    "    y.imshow(img)\n",
    "#     y.imshow(img,cmap='jet')\n",
    "    plt.title(str_label)\n",
    "    y.axes.get_xaxis().set_visible(False)\n",
    "    y.axes.get_yaxis().set_visible(False)\n",
    "plt.show()"
   ]
  },
  {
   "cell_type": "code",
   "execution_count": null,
   "metadata": {},
   "outputs": [],
   "source": []
  },
  {
   "cell_type": "code",
   "execution_count": null,
   "metadata": {},
   "outputs": [],
   "source": []
  }
 ],
 "metadata": {
  "kernelspec": {
   "display_name": "Python 3",
   "language": "python",
   "name": "python3"
  },
  "language_info": {
   "codemirror_mode": {
    "name": "ipython",
    "version": 3
   },
   "file_extension": ".py",
   "mimetype": "text/x-python",
   "name": "python",
   "nbconvert_exporter": "python",
   "pygments_lexer": "ipython3",
   "version": "3.7.9"
  }
 },
 "nbformat": 4,
 "nbformat_minor": 4
}
