{
 "cells": [
  {
   "cell_type": "raw",
   "metadata": {},
   "source": [
    "https://github.com/PacktPublishing/TensorFlow-Machine-Learning-Cookbook-Second-Edition/blob/master/Chapter08/08_Convolutional_Neural_Networks/02_Intro_to_CNN_MNIST/02_introductory_cnn.ipynb"
   ]
  },
  {
   "cell_type": "code",
   "execution_count": 1,
   "metadata": {},
   "outputs": [],
   "source": [
    "\n",
    "import matplotlib.pyplot as plt\n",
    "import numpy as np\n",
    "import tensorflow as tf\n",
    "tf.reset_default_graph()\n",
    "from tensorflow.examples.tutorials.mnist import input_data\n",
    "from tensorflow.python.framework import ops\n",
    "tf.reset_default_graph()"
   ]
  },
  {
   "cell_type": "code",
   "execution_count": 2,
   "metadata": {},
   "outputs": [],
   "source": [
    "# Start a graph session\n",
    "sess = tf.Session()"
   ]
  },
  {
   "cell_type": "code",
   "execution_count": 3,
   "metadata": {},
   "outputs": [
    {
     "name": "stdout",
     "output_type": "stream",
     "text": [
      "WARNING:tensorflow:From <ipython-input-3-8d7e31389ed5>:2: read_data_sets (from tensorflow.contrib.learn.python.learn.datasets.mnist) is deprecated and will be removed in a future version.\n",
      "Instructions for updating:\n",
      "Please use alternatives such as official/mnist/dataset.py from tensorflow/models.\n",
      "WARNING:tensorflow:From /home/khoa/anaconda3/envs/tf15/lib/python3.7/site-packages/tensorflow_core/contrib/learn/python/learn/datasets/mnist.py:260: maybe_download (from tensorflow.contrib.learn.python.learn.datasets.base) is deprecated and will be removed in a future version.\n",
      "Instructions for updating:\n",
      "Please write your own downloading logic.\n",
      "WARNING:tensorflow:From /home/khoa/anaconda3/envs/tf15/lib/python3.7/site-packages/tensorflow_core/contrib/learn/python/learn/datasets/mnist.py:262: extract_images (from tensorflow.contrib.learn.python.learn.datasets.mnist) is deprecated and will be removed in a future version.\n",
      "Instructions for updating:\n",
      "Please use tf.data to implement this functionality.\n",
      "Extracting MNIST_data/train-images-idx3-ubyte.gz\n",
      "WARNING:tensorflow:From /home/khoa/anaconda3/envs/tf15/lib/python3.7/site-packages/tensorflow_core/contrib/learn/python/learn/datasets/mnist.py:267: extract_labels (from tensorflow.contrib.learn.python.learn.datasets.mnist) is deprecated and will be removed in a future version.\n",
      "Instructions for updating:\n",
      "Please use tf.data to implement this functionality.\n",
      "Extracting MNIST_data/train-labels-idx1-ubyte.gz\n",
      "Extracting MNIST_data/t10k-images-idx3-ubyte.gz\n",
      "Extracting MNIST_data/t10k-labels-idx1-ubyte.gz\n",
      "WARNING:tensorflow:From /home/khoa/anaconda3/envs/tf15/lib/python3.7/site-packages/tensorflow_core/contrib/learn/python/learn/datasets/mnist.py:290: DataSet.__init__ (from tensorflow.contrib.learn.python.learn.datasets.mnist) is deprecated and will be removed in a future version.\n",
      "Instructions for updating:\n",
      "Please use alternatives such as official/mnist/dataset.py from tensorflow/models.\n"
     ]
    }
   ],
   "source": [
    "# Load data\n",
    "mnist = input_data.read_data_sets('MNIST_data/', one_hot=False)"
   ]
  },
  {
   "cell_type": "code",
   "execution_count": 4,
   "metadata": {},
   "outputs": [
    {
     "name": "stdout",
     "output_type": "stream",
     "text": [
      "(55000, 28, 28) (10000, 28, 28)\n",
      "(55000,) (10000,)\n"
     ]
    }
   ],
   "source": [
    "# Convert images into 28x28 (they are downloaded as 1x784)\n",
    "X_train = np.array([np.reshape(x, (28,28)) for x in mnist.train.images])\n",
    "X_test = np.array([np.reshape(x, (28,28)) for x in mnist.test.images])\n",
    "print(X_train.shape, X_test.shape)\n",
    "\n",
    "# Not convert labels into one-hot encoded vectors\n",
    "y_train = mnist.train.labels\n",
    "y_test = mnist.test.labels\n",
    "print(y_train.shape, y_test.shape)\n",
    "\n",
    "# Z- score  or Gaussian Normalization\n",
    "X_train = X_train - np.mean(X_train) / X_train.std()\n",
    "X_test = X_test - np.mean(X_test) / X_test.std()"
   ]
  },
  {
   "cell_type": "code",
   "execution_count": 5,
   "metadata": {},
   "outputs": [],
   "source": [
    "# Set model parameters\n",
    "batch_size = 100\n",
    "learning_rate = 0.005\n",
    "evaluation_size = 500\n",
    "\n",
    "image_width = X_train[0].shape[0]   # 28\n",
    "image_height = X_train[0].shape[1]   # 28\n",
    "\n",
    "target_size = int(np.max(y_train) + 1) # 10\n",
    "\n",
    "num_channels = 1   # greyscale = 1 channel\n",
    "generation = 500\n",
    "eval_every = 5\n",
    "\n",
    "conv1_features = 25\n",
    "conv2_features = 50\n",
    "\n",
    "max_pool_size1 = 2 # NxN window for 1st max pool layer\n",
    "max_pool_size2 = 2 # NxN window for 2nd max pool layer\n",
    "\n",
    "fully_connected_size1 = 100"
   ]
  },
  {
   "cell_type": "code",
   "execution_count": 6,
   "metadata": {},
   "outputs": [],
   "source": [
    "X_input_shape = (batch_size, image_width, image_height, num_channels)   # 100 x 28 x 28 x 1\n",
    "\n",
    "X_input = tf.placeholder(tf.float32, shape=X_input_shape)   # shape=(100, 28, 28, 1)\n",
    "y_target = tf.placeholder(tf.int32, shape=(batch_size)) # 100\n",
    "\n",
    "#=======================================================================================\n",
    "\n",
    "eval_input_shape = (evaluation_size, image_width, image_height, num_channels)   # 500 x 28 x 28 x 1\n",
    "\n",
    "eval_input = tf.placeholder(tf.float32, shape = eval_input_shape)\n",
    "eval_target = tf.placeholder(tf.int32, shape = (evaluation_size)) # 500"
   ]
  },
  {
   "cell_type": "code",
   "execution_count": 7,
   "metadata": {},
   "outputs": [],
   "source": [
    "# Convolutional layer variables\n",
    "conv1_weight = tf.Variable(tf.truncated_normal([4, 4, num_channels, conv1_features], # shape = [4, 4, 1, 25]\n",
    "                                                stddev = 0.1, dtype = tf.float32))\n",
    "conv1_bias = tf.Variable(tf.zeros([conv1_features], dtype = tf.float32)) # shape = [25]\n",
    "\n",
    "conv2_weight = tf.Variable(tf.truncated_normal([4, 4, conv1_features, conv2_features],  # shape = [4, 4, 25, 50]\n",
    "                                                stddev = 0.1, dtype = tf.float32))\n",
    "conv2_bias = tf.Variable(tf.zeros([conv2_features], dtype = tf.float32)) # shape = [50]"
   ]
  },
  {
   "cell_type": "code",
   "execution_count": 10,
   "metadata": {},
   "outputs": [],
   "source": [
    "# Fully connected variables\n",
    "resulting_width = image_width // (max_pool_size1 * max_pool_size2) # 7\n",
    "resulting_height = image_height // (max_pool_size1 * max_pool_size2) # 7\n",
    "\n",
    "full1_input_size = resulting_width * resulting_height * conv2_features # 2450\n",
    "\n",
    "#===============================================================================================\n",
    "full1_weight = tf.Variable(tf.truncated_normal([full1_input_size, fully_connected_size1], # 2450 x 100\n",
    "                          stddev=0.1, dtype=tf.float32))\n",
    "full1_bias = tf.Variable(tf.truncated_normal([fully_connected_size1], stddev=0.1,dtype=tf.float32)) # 100\n",
    "\n",
    "\n",
    "full2_weight = tf.Variable(tf.truncated_normal([fully_connected_size1, target_size], # 100 x 10\n",
    "                                               stddev=0.1, dtype=tf.float32))\n",
    "full2_bias = tf.Variable(tf.truncated_normal([target_size], stddev=0.1, dtype=tf.float32)) # 10"
   ]
  },
  {
   "cell_type": "code",
   "execution_count": 11,
   "metadata": {},
   "outputs": [],
   "source": [
    "# Initialize Model Operations\n",
    "def my_conv_net(input_data):\n",
    "    # First Conv-ReLU-MaxPool Layer\n",
    "    conv1 = tf.nn.conv2d(input_data, conv1_weight, strides=[1, 1, 1, 1], padding='SAME') # filter = conv1_weight\n",
    "    relu1 = tf.nn.relu(tf.nn.bias_add(conv1, conv1_bias)) # shape=(100, 28, 28, 25)\n",
    "    max_pool1 = tf.nn.max_pool(relu1, ksize=[1, max_pool_size1, max_pool_size1, 1], # shape=(100, 14, 14, 25)\n",
    "                              strides=[1, max_pool_size1, max_pool_size1, 1], padding='SAME')\n",
    "    \n",
    "    # Second Conv-ReLU-MaxPool Layer\n",
    "    conv2 = tf.nn.conv2d(max_pool1, conv2_weight, strides=[1, 1, 1, 1], padding='SAME') # shape=(100, 14, 14, 50)\n",
    "    relu2 = tf.nn.relu(tf.nn.bias_add(conv2, conv2_bias)) # shape=(100, 14, 14, 50)\n",
    "    max_pool2 = tf.nn.max_pool(relu2, ksize=[1, max_pool_size2, max_pool_size2, 1], # shape=(100, 7, 7, 50)\n",
    "                              strides=[1, max_pool_size2, max_pool_size2, 1], padding='SAME')\n",
    "   \n",
    "    # Transform Output into a 1xN layer for next fully connected layer\n",
    "    final_conv_shape = max_pool2.get_shape().as_list()   # 100 x 7 x 7 x 50\n",
    "  \n",
    "    final_shape = final_conv_shape[1] * final_conv_shape[2] * final_conv_shape[3]   # 7 x 7 x 50  shape = 2450\n",
    "    flat_output = tf.reshape(max_pool2, [final_conv_shape[0], final_shape])   # shape=(100, 2450)\n",
    "    #===================================================================================================\n",
    "    \n",
    "    # First Fully Connected Layer\n",
    "    fully_connected1 = tf.nn.relu(tf.add(tf.matmul(flat_output, full1_weight), full1_bias)) # shape=(100, 100)\n",
    "    \n",
    "    # Second Fully Connected Layer\n",
    "    final_model_output = tf.add(tf.matmul(fully_connected1, full2_weight), full2_bias) # shape=(100, 10)\n",
    "  \n",
    "    return final_model_output\n",
    "\n",
    "model_output = my_conv_net(X_input)\n",
    "test_model_output = my_conv_net(eval_input)"
   ]
  },
  {
   "cell_type": "code",
   "execution_count": 17,
   "metadata": {},
   "outputs": [],
   "source": [
    "# Declare Loss Function (softmax cross entropy)\n",
    "loss = tf.reduce_mean(tf.nn.sparse_softmax_cross_entropy_with_logits(logits=model_output, labels=y_target))"
   ]
  },
  {
   "cell_type": "code",
   "execution_count": 18,
   "metadata": {},
   "outputs": [],
   "source": [
    "# Create a prediction function\n",
    "prediction = tf.nn.softmax(model_output)\n",
    "test_prediction = tf.nn.softmax(test_model_output)\n",
    "\n",
    "# Create accuracy function\n",
    "def get_accuracy(logits, targets):\n",
    "    batch_predictions = np.argmax(logits, axis=1) # (100, )\n",
    "    num_correct = np.sum(np.equal(batch_predictions, targets)) # number of 2 numbers are the same\n",
    "  \n",
    "    return 100. * num_correct / batch_predictions.shape[0]"
   ]
  },
  {
   "cell_type": "code",
   "execution_count": 19,
   "metadata": {},
   "outputs": [],
   "source": [
    "# Create an optimizer\n",
    "my_optimizer = tf.train.MomentumOptimizer(learning_rate, 0.9)\n",
    "train_step = my_optimizer.minimize(loss)\n",
    "    \n",
    "# Initialize Variables\n",
    "init = tf.global_variables_initializer()\n",
    "sess.run(init)"
   ]
  },
  {
   "cell_type": "code",
   "execution_count": 20,
   "metadata": {},
   "outputs": [
    {
     "name": "stdout",
     "output_type": "stream",
     "text": [
      "Generation # 5. Train Loss: 2.34. Train Acc (Test Acc): 5.00 (11.80)\n",
      "Generation # 10. Train Loss: 2.22. Train Acc (Test Acc): 25.00 (22.40)\n",
      "Generation # 15. Train Loss: 2.15. Train Acc (Test Acc): 23.00 (26.20)\n",
      "Generation # 20. Train Loss: 2.12. Train Acc (Test Acc): 46.00 (41.20)\n",
      "Generation # 25. Train Loss: 2.06. Train Acc (Test Acc): 44.00 (51.40)\n",
      "Generation # 30. Train Loss: 1.91. Train Acc (Test Acc): 46.00 (51.00)\n",
      "Generation # 35. Train Loss: 1.83. Train Acc (Test Acc): 58.00 (62.60)\n",
      "Generation # 40. Train Loss: 1.67. Train Acc (Test Acc): 60.00 (61.00)\n",
      "Generation # 45. Train Loss: 1.48. Train Acc (Test Acc): 66.00 (69.20)\n",
      "Generation # 50. Train Loss: 1.17. Train Acc (Test Acc): 76.00 (71.20)\n",
      "Generation # 55. Train Loss: 1.03. Train Acc (Test Acc): 76.00 (72.60)\n",
      "Generation # 60. Train Loss: 0.85. Train Acc (Test Acc): 78.00 (80.00)\n",
      "Generation # 65. Train Loss: 0.65. Train Acc (Test Acc): 83.00 (80.00)\n",
      "Generation # 70. Train Loss: 0.66. Train Acc (Test Acc): 82.00 (82.60)\n",
      "Generation # 75. Train Loss: 0.58. Train Acc (Test Acc): 81.00 (88.60)\n",
      "Generation # 80. Train Loss: 0.37. Train Acc (Test Acc): 89.00 (89.20)\n",
      "Generation # 85. Train Loss: 0.38. Train Acc (Test Acc): 92.00 (86.60)\n",
      "Generation # 90. Train Loss: 0.45. Train Acc (Test Acc): 89.00 (89.60)\n",
      "Generation # 95. Train Loss: 0.40. Train Acc (Test Acc): 88.00 (88.60)\n",
      "Generation # 100. Train Loss: 0.32. Train Acc (Test Acc): 87.00 (93.00)\n"
     ]
    }
   ],
   "source": [
    "import matplotlib.pyplot as plt\n",
    "generations = 100\n",
    "# Start training loop\n",
    "train_loss = []\n",
    "train_acc = []\n",
    "test_acc = []\n",
    "for i in range(generations):\n",
    "    rand_index = np.random.choice(len(X_train), size=batch_size)\n",
    "    rand_x = X_train[rand_index]\n",
    "    rand_x = np.expand_dims(rand_x, 3)\n",
    "    rand_y = y_train[rand_index]\n",
    "  \n",
    "    train_dict = {X_input: rand_x, y_target: rand_y}\n",
    "    \n",
    "    sess.run(train_step, feed_dict=train_dict)\n",
    "    \n",
    "    temp_train_loss, temp_train_preds = sess.run([loss, prediction], feed_dict=train_dict)\n",
    "    temp_train_acc = get_accuracy(temp_train_preds, rand_y)\n",
    "    \n",
    "\n",
    "    \n",
    "    if (i+1) % eval_every == 0: # eval_every == 5\n",
    "        eval_index = np.random.choice(len(X_test), size=evaluation_size)\n",
    "        eval_x = X_test[eval_index]\n",
    "        eval_x = np.expand_dims(eval_x, 3)\n",
    "\n",
    "        eval_y = y_test[eval_index]\n",
    "        \n",
    "        test_dict = {eval_input: eval_x, eval_target: eval_y}\n",
    "        \n",
    "        test_preds = sess.run(test_prediction, feed_dict=test_dict)\n",
    "        temp_test_acc = get_accuracy(test_preds, eval_y)\n",
    "        \n",
    "        # Record and print results\n",
    "        train_loss.append(temp_train_loss)\n",
    "        train_acc.append(temp_train_acc)\n",
    "        test_acc.append(temp_test_acc)\n",
    "        \n",
    "        acc_and_loss = [(i+1), temp_train_loss, temp_train_acc, temp_test_acc]\n",
    "        acc_and_loss = [np.round(x,2) for x in acc_and_loss]\n",
    "        print('Generation # {}. Train Loss: {:.2f}. Train Acc (Test Acc): {:.2f} ({:.2f})'.format(*acc_and_loss))\n",
    "        "
   ]
  },
  {
   "cell_type": "code",
   "execution_count": 21,
   "metadata": {},
   "outputs": [
    {
     "name": "stdout",
     "output_type": "stream",
     "text": [
      "[5 8 9 3 8 7]\n",
      "[5 8 9 3 8 7]\n"
     ]
    },
    {
     "data": {
      "image/png": "[encoded data removed]",
      "text/plain": [
       "<Figure size 432x288 with 6 Axes>"
      ]
     },
     "metadata": {
      "needs_background": "light"
     },
     "output_type": "display_data"
    }
   ],
   "source": [
    "\n",
    "# Plot some samples\n",
    "# Plot the 6 of the last batch results:\n",
    "actuals = rand_y[0:6]\n",
    "print(actuals)\n",
    "predictions = np.argmax(temp_train_preds,axis=1)[0:6]\n",
    "print(predictions)\n",
    "images = np.squeeze(rand_x[0:6])\n",
    "\n",
    "Nrows = 2\n",
    "Ncols = 3\n",
    "for i in range(6):\n",
    "    plt.subplot(Nrows, Ncols, i+1)\n",
    "    plt.imshow(np.reshape(images[i], [28,28]), cmap='Greys_r')\n",
    "    plt.title('Actual: ' + str(actuals[i]) + ' Pred: ' + str(predictions[i]), fontsize=10)\n",
    "    \n",
    "    frame = plt.gca()\n",
    "    frame.axes.get_xaxis().set_visible(False)\n",
    "    frame.axes.get_yaxis().set_visible(False)\n",
    "plt.show()"
   ]
  },
  {
   "cell_type": "code",
   "execution_count": null,
   "metadata": {},
   "outputs": [],
   "source": []
  },
  {
   "cell_type": "code",
   "execution_count": null,
   "metadata": {},
   "outputs": [],
   "source": []
  }
 ],
 "metadata": {
  "kernelspec": {
   "display_name": "Python 3",
   "language": "python",
   "name": "python3"
  },
  "language_info": {
   "codemirror_mode": {
    "name": "ipython",
    "version": 3
   },
   "file_extension": ".py",
   "mimetype": "text/x-python",
   "name": "python",
   "nbconvert_exporter": "python",
   "pygments_lexer": "ipython3",
   "version": "3.7.9"
  }
 },
 "nbformat": 4,
 "nbformat_minor": 4
}
